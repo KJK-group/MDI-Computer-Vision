{
 "cells": [
  {
   "cell_type": "markdown",
   "metadata": {},
   "source": [
    "# AirSimDataset - Resnet50 - Model training"
   ]
  },
  {
   "cell_type": "code",
   "execution_count": 1,
   "metadata": {},
   "outputs": [],
   "source": [
    "import torch\n",
    "import torch.nn as nn\n",
    "import torch.nn.functional as F\n",
    "import torchvision\n",
    "import torchvision.transforms as transforms\n",
    "import matplotlib.pyplot as plt\n",
    "import matplotlib\n",
    "import numpy as np\n",
    "from torchsummary import summary\n",
    "import torchinfo\n",
    "import json\n",
    "from torchvision.models.segmentation import fcn\n",
    "import glob\n",
    "from PIL import Image\n",
    "import time\n",
    "from torch.utils.data import DataLoader\n",
    "import airsim \n",
    "\n",
    "from torch.utils.tensorboard import SummaryWriter"
   ]
  },
  {
   "cell_type": "code",
   "execution_count": 2,
   "metadata": {},
   "outputs": [
    {
     "name": "stdout",
     "output_type": "stream",
     "text": [
      "Device chosen GPU: NVIDIA TITAN RTX\n"
     ]
    }
   ],
   "source": [
    "#device = torch.device('cuda' if torch.cuda.is_available() else 'cpu')\n",
    "device = torch.device(\"cuda:0\")\n",
    "print(\"Device chosen GPU:\", torch.cuda.get_device_name(device))\n",
    "\n",
    "# Parameters\n",
    "num_classes = 3\n",
    "\n",
    "# Hyper parameters\n",
    "num_epochs = 50\n",
    "batch_size = 4\n",
    "learning_rate = 0.0001\n",
    "beta1 = 0.9\n",
    "beta2 = 0.999\n",
    "log_directory = f\"runs/AirSimDataset/resnet50/v0.0.0 Adam lr = {learning_rate}, epochs = {num_epochs}, batchsize ={batch_size}\"\n",
    "writer  = SummaryWriter(log_directory)"
   ]
  },
  {
   "cell_type": "code",
   "execution_count": 3,
   "metadata": {},
   "outputs": [],
   "source": [
    "torch.cuda.empty_cache()\n",
    "transform = transforms.Compose(\n",
    "    [\n",
    "        transforms.ToTensor(),\n",
    "        transforms.Normalize((0.485, 0.456, 0.406), (0.229, 0.224, 0.225))\n",
    "    ]\n",
    ")\n",
    "\n",
    "def pil_to_np(img):\n",
    "    return np.array(img) \n",
    "\n",
    "# The Cityscapes dataset is avaliable in PyTorch\n",
    "# train_dataset = torchvision.datasets.Cityscapes(root='./cityscapesDataset', split='train', mode='fine', target_type='semantic', transform=transform, target_transform=pil_to_np)\n",
    "# #test_dataset  = torchvision.datasets.Cityscapes(root='./cityscapesDataset', split='test',  mode='fine', target_type='semantic', transform=pil_to_tensor, target_transform=transforms.ToTensor())\n",
    "# val_dataset   = torchvision.datasets.Cityscapes(root='./cityscapesDataset', split='val',   mode='fine', target_type='semantic', transform=transform, target_transform=pil_to_np)\n",
    "\n",
    "# DATA_DIRECTORY = \"AirSimDataset/\"\n",
    "# airSimDataset = np.load(DATA_DIRECTORY)\n",
    "# print(airSimDataset)\n",
    "\n",
    "# Help with glob from https://stackoverflow.com/questions/39195113/how-to-load-multiple-images-in-a-numpy-array\n",
    "file_list_images  = sorted(glob.glob('AirSimDataset4/img_rgbd_camera_0_*.png'))\n",
    "file_list_depths  = sorted(glob.glob('AirSimDataset4/img_rgbd_camera_1_*.pfm'))\n",
    "file_list_targets = sorted(glob.glob('AirSimDataset4/img_rgbd_camera_5_*.png'))\n",
    "\n",
    "dataset_images  = np.array([np.array(Image.open(filename))                for filename in file_list_images])\n",
    "dataset_depths  = np.array([np.array(airsim.utils.read_pfm(filename)[0])  for filename in file_list_depths])\n",
    "dataset_targets = np.array([np.array(Image.open(filename))                for filename in file_list_targets])\n",
    "\n",
    "# print(\"Images  shape:\", dataset_images.shape)\n",
    "# print(\"Targets shape:\", dataset_targets.shape)\n",
    "\n",
    "images = dataset_images[:,:,:,0:3]\n",
    "targets_RGB = dataset_targets[:,:,:,0:3]\n",
    "\n",
    "# print(\"Images cropped shape:\", images.shape)\n",
    "# print(\"Targets cropped shape:\", targets_RGB.shape)\n",
    "\n",
    "# From 3 channel RGB targets into 1\n",
    "\n",
    "## CPU\n",
    "# start0 = time.perf_counter()\n",
    "# targets = np.zeros(targets_RGB.shape[:3])\n",
    "# class_colors = [\n",
    "#     #np.array([0, 0, 0]),   # new_targets are already zero\n",
    "#     np.array([81, 38, 0]),  # Toilet\n",
    "#     np.array([41, 36, 132]) # Chair\n",
    "# ]\n",
    "\n",
    "# for i, class_color in enumerate(class_colors):                  # For every class/colour \n",
    "#     indice = np.where(np.all(targets_RGB == class_color, axis=-1))   # Where the current RGB value corresponds with hte pixel in the last axis\n",
    "#     targets[indice] = i+1        # Use that pixel index to define class number from enumerate. The +1 is due to 0 being background\n",
    "# print(f\"time0: {time.perf_counter() - start0}\")\n",
    "\n",
    "## GPU\n",
    "#start = time.perf_counter()\n",
    "with torch.no_grad():\n",
    "    #color0 = torch.tensor([0, 0, 0], device=device)\n",
    "    color1 = torch.tensor([81, 38, 0], device=device)\n",
    "    color2 = torch.tensor([41, 36, 132], device=device)\n",
    "    color_map = [color1, color2]\n",
    "\n",
    "    torch_targets_RGB = torch.tensor(targets_RGB, device=device)\n",
    "    # Create target on the gpu\n",
    "    targets = torch.zeros(targets_RGB.shape[:3], device=device)\n",
    "    # convert to torch tensor and put it on gpu\n",
    "    #mid = time.perf_counter()\n",
    "    #print(f\"time gpu moving: {mid - start}\")\n",
    "    for i, c in enumerate(color_map):\n",
    "        # find all pixel equal to the color\n",
    "        indices = torch.where(torch.all(torch_targets_RGB == c, dim=-1))\n",
    "        # set class\n",
    "        targets[indices] = i + 1\n",
    "    #print(f\"time: {time.perf_counter() - mid}\")\n",
    "\n",
    "    #targets = torch.unsqueeze(targets, dim=-1)\n",
    "    images = torch.tensor(images, device=device).permute(0,3,1,2) # Permutes from [84, 720, 1280, 3] to [84, 3, 720, 1280], as that's how PyTorch likes it\n",
    "\n",
    "    # Pairing the images with the labels - train to test ratio of 5 to 1\n",
    "    num_test = int(len(targets)/5) # will return 1/5 integer of the total sample size   \n",
    "    # train_data = (images[num_test:len(targets)], targets[num_test:len(targets)])\n",
    "    # test_data = (images[:num_test], targets[:num_test])\n",
    "    train_data = [(img, t) for img, t in zip(images[num_test:len(targets)], targets[num_test:len(targets)])]\n",
    "    test_data  = [(img, t) for img, t in zip(images[:num_test], targets[:num_test])]\n",
    "\n",
    "    # Dataloaders used to batch the paired images\n",
    "    train_loader = DataLoader(train_data, batch_size=batch_size, shuffle=True)\n",
    "    test_loader = DataLoader(test_data, batch_size=batch_size, shuffle=False)\n",
    "\n",
    "    # Splitting the training and testing datasets into smaller batches\n",
    "    # workers = 5\n",
    "    # train_loader = torch.utils.data.DataLoader(dataset=train_dataset, batch_size=batch_size, shuffle=True)#,  num_workers=workers)#, pin_memory=True))\n",
    "    # #test_loader  = torch.utils.data.DataLoader(dataset=test_dataset,  batch_size=batch_size, shuffle=False)#, num_workers=workers)#, pin_memory=True))\n",
    "    # val_loader   = torch.utils.data.DataLoader(dataset=val_dataset,  batch_size=batch_size, shuffle=False)#, num_workers=workers)#, pin_memory=True))\n",
    "\n",
    "    #print('Train Size: ', len(train_dataset))\n",
    "    #print('Test Size : ', len(test_dataset))\n",
    "    #print('Val Size  : ', len(val_dataset))\n",
    "\n",
    "    '''Plot from dataset'''\n",
    "    # fig, ax = plt.subplots(nrows=2,ncols=2, figsize=(24, 16))\n",
    "    # ax[0][0].imshow(images[0].to('cpu').permute(1,2,0))\n",
    "    # ax[0][1].imshow(targets[0].to('cpu'))\n",
    "    # ax[1][0].imshow(images[83].to('cpu').permute(1,2,0))\n",
    "    # ax[1][1].imshow(targets[83].to('cpu'))\n",
    "\n",
    "    '''Plot from dataloader''';\n",
    "    # plot_img, plot_target = iter(train_loader).next()\n",
    "    # plot_img = plot_img[0]\n",
    "    # plot_target = plot_target[0]\n",
    "    # fig, ax = plt.subplots(ncols=2, figsize=(24, 16))\n",
    "    # ax[0].imshow(np.array(plot_img.to('cpu')).transpose(1,2,0)) # transpose(1,2,0) changes the order of the dimensions\n",
    "    # ax[1].imshow(np.array(plot_target.to('cpu')))"
   ]
  },
  {
   "cell_type": "code",
   "execution_count": 4,
   "metadata": {},
   "outputs": [],
   "source": [
    "# Find all class RGB values in an image\n",
    "# img_target = targets_RGB[0] # opencv uses GBR\n",
    "# img_target_RGB = img_target\n",
    "# print(img_target.shape)\n",
    "# # np.where(np.all(img_target == np.array()))\n",
    "# h, w = img_target_RGB.shape[:2]\n",
    "# colors=[]\n",
    "# for x in range(w):\n",
    "#     for y in range(h):\n",
    "#         pixel = img_target[y,x]\n",
    "#         if str(pixel) not in colors:\n",
    "#             colors.append(str(pixel))\n",
    "\n",
    "# print(colors)"
   ]
  },
  {
   "cell_type": "code",
   "execution_count": 5,
   "metadata": {},
   "outputs": [],
   "source": [
    "'''Loading saved model''';\n",
    "# model = fcn.fcn_resnet50(pretrained=False, progress=True, num_classes=num_classes, aux_loss=False, pretrained_backbone=True).to(device)\n",
    "# optimiser = torch.optim.Adam(model.parameters(), lr=learning_rate, betas=[beta1, beta2], eps=1e-08)\n",
    "\n",
    "# loaded_checkpoint = torch.load(\"UPDATE PATH\")\n",
    "\n",
    "# # for param in model.parameters():    # Freezing the startign layers\n",
    "# #     # param.requires_grad = False\n",
    "# #     param.requires_grad = False\n",
    "\n",
    "# model.load_state_dict(loaded_checkpoint[\"model_state\"])\n",
    "# optimiser.load_state_dict(loaded_checkpoint[\"optimiser_state\"])\n",
    "# epoch = loaded_checkpoint[\"epoch\"]\n",
    "# criterion = nn.CrossEntropyLoss()"
   ]
  },
  {
   "cell_type": "code",
   "execution_count": 6,
   "metadata": {},
   "outputs": [],
   "source": [
    "'''Loading new model''';\n",
    "model = fcn.fcn_resnet50(pretrained=False, progress=True, num_classes=num_classes, aux_loss=False, pretrained_backbone=True).to(device)\n",
    "\n",
    "# Finetuning\n",
    "# for param in model.parameters():    # Freezing/unfreezing the starting layers\n",
    "#     # param.requires_grad = False\n",
    "#     param.requires_grad = False\n",
    "\n",
    "optimiser = torch.optim.Adam(model.parameters(), lr=learning_rate, betas=[beta1, beta2], eps=1e-8)\n",
    "criterion = nn.CrossEntropyLoss()\n"
   ]
  },
  {
   "cell_type": "code",
   "execution_count": 7,
   "metadata": {},
   "outputs": [
    {
     "name": "stdout",
     "output_type": "stream",
     "text": [
      "Starting training\n"
     ]
    },
    {
     "ename": "KeyboardInterrupt",
     "evalue": "",
     "output_type": "error",
     "traceback": [
      "\u001b[0;31m---------------------------------------------------------------------------\u001b[0m",
      "\u001b[0;31mKeyboardInterrupt\u001b[0m                         Traceback (most recent call last)",
      "\u001b[1;32m/home/kevork/MDI-Computer-Vision/project_sheet03.ipynb Cell 8'\u001b[0m in \u001b[0;36m<cell line: 21>\u001b[0;34m()\u001b[0m\n\u001b[1;32m     <a href='vscode-notebook-cell:/home/kevork/MDI-Computer-Vision/project_sheet03.ipynb#ch0000007?line=48'>49</a>\u001b[0m optimiser\u001b[39m.\u001b[39mzero_grad()   \u001b[39m# Clear old gradient values\u001b[39;00m\n\u001b[1;32m     <a href='vscode-notebook-cell:/home/kevork/MDI-Computer-Vision/project_sheet03.ipynb#ch0000007?line=49'>50</a>\u001b[0m loss\u001b[39m.\u001b[39mbackward()         \u001b[39m# Calculate the gradients\u001b[39;00m\n\u001b[0;32m---> <a href='vscode-notebook-cell:/home/kevork/MDI-Computer-Vision/project_sheet03.ipynb#ch0000007?line=50'>51</a>\u001b[0m optimiser\u001b[39m.\u001b[39;49mstep()        \u001b[39m# Update the model's weights - seen at model.parameters()\u001b[39;00m\n\u001b[1;32m     <a href='vscode-notebook-cell:/home/kevork/MDI-Computer-Vision/project_sheet03.ipynb#ch0000007?line=52'>53</a>\u001b[0m \u001b[39mwith\u001b[39;00m torch\u001b[39m.\u001b[39mno_grad():\n\u001b[1;32m     <a href='vscode-notebook-cell:/home/kevork/MDI-Computer-Vision/project_sheet03.ipynb#ch0000007?line=53'>54</a>\u001b[0m \n\u001b[1;32m     <a href='vscode-notebook-cell:/home/kevork/MDI-Computer-Vision/project_sheet03.ipynb#ch0000007?line=54'>55</a>\u001b[0m     \u001b[39m# Logging the train accuracy\u001b[39;00m\n\u001b[1;32m     <a href='vscode-notebook-cell:/home/kevork/MDI-Computer-Vision/project_sheet03.ipynb#ch0000007?line=55'>56</a>\u001b[0m     pred \u001b[39m=\u001b[39m torch\u001b[39m.\u001b[39margmax(outputs, dim\u001b[39m=\u001b[39m\u001b[39m1\u001b[39m)     \u001b[39m# Evaluate along the 1st dimension\u001b[39;00m\n",
      "File \u001b[0;32m~/miniconda3/envs/pytorch/lib/python3.9/site-packages/torch/optim/optimizer.py:88\u001b[0m, in \u001b[0;36mOptimizer._hook_for_profile.<locals>.profile_hook_step.<locals>.wrapper\u001b[0;34m(*args, **kwargs)\u001b[0m\n\u001b[1;32m     <a href='file:///home/kevork/miniconda3/envs/pytorch/lib/python3.9/site-packages/torch/optim/optimizer.py?line=85'>86</a>\u001b[0m profile_name \u001b[39m=\u001b[39m \u001b[39m\"\u001b[39m\u001b[39mOptimizer.step#\u001b[39m\u001b[39m{}\u001b[39;00m\u001b[39m.step\u001b[39m\u001b[39m\"\u001b[39m\u001b[39m.\u001b[39mformat(obj\u001b[39m.\u001b[39m\u001b[39m__class__\u001b[39m\u001b[39m.\u001b[39m\u001b[39m__name__\u001b[39m)\n\u001b[1;32m     <a href='file:///home/kevork/miniconda3/envs/pytorch/lib/python3.9/site-packages/torch/optim/optimizer.py?line=86'>87</a>\u001b[0m \u001b[39mwith\u001b[39;00m torch\u001b[39m.\u001b[39mautograd\u001b[39m.\u001b[39mprofiler\u001b[39m.\u001b[39mrecord_function(profile_name):\n\u001b[0;32m---> <a href='file:///home/kevork/miniconda3/envs/pytorch/lib/python3.9/site-packages/torch/optim/optimizer.py?line=87'>88</a>\u001b[0m     \u001b[39mreturn\u001b[39;00m func(\u001b[39m*\u001b[39;49margs, \u001b[39m*\u001b[39;49m\u001b[39m*\u001b[39;49mkwargs)\n",
      "File \u001b[0;32m~/miniconda3/envs/pytorch/lib/python3.9/site-packages/torch/autograd/grad_mode.py:27\u001b[0m, in \u001b[0;36m_DecoratorContextManager.__call__.<locals>.decorate_context\u001b[0;34m(*args, **kwargs)\u001b[0m\n\u001b[1;32m     <a href='file:///home/kevork/miniconda3/envs/pytorch/lib/python3.9/site-packages/torch/autograd/grad_mode.py?line=23'>24</a>\u001b[0m \u001b[39m@functools\u001b[39m\u001b[39m.\u001b[39mwraps(func)\n\u001b[1;32m     <a href='file:///home/kevork/miniconda3/envs/pytorch/lib/python3.9/site-packages/torch/autograd/grad_mode.py?line=24'>25</a>\u001b[0m \u001b[39mdef\u001b[39;00m \u001b[39mdecorate_context\u001b[39m(\u001b[39m*\u001b[39margs, \u001b[39m*\u001b[39m\u001b[39m*\u001b[39mkwargs):\n\u001b[1;32m     <a href='file:///home/kevork/miniconda3/envs/pytorch/lib/python3.9/site-packages/torch/autograd/grad_mode.py?line=25'>26</a>\u001b[0m     \u001b[39mwith\u001b[39;00m \u001b[39mself\u001b[39m\u001b[39m.\u001b[39mclone():\n\u001b[0;32m---> <a href='file:///home/kevork/miniconda3/envs/pytorch/lib/python3.9/site-packages/torch/autograd/grad_mode.py?line=26'>27</a>\u001b[0m         \u001b[39mreturn\u001b[39;00m func(\u001b[39m*\u001b[39;49margs, \u001b[39m*\u001b[39;49m\u001b[39m*\u001b[39;49mkwargs)\n",
      "File \u001b[0;32m~/miniconda3/envs/pytorch/lib/python3.9/site-packages/torch/optim/adam.py:141\u001b[0m, in \u001b[0;36mAdam.step\u001b[0;34m(self, closure)\u001b[0m\n\u001b[1;32m    <a href='file:///home/kevork/miniconda3/envs/pytorch/lib/python3.9/site-packages/torch/optim/adam.py?line=137'>138</a>\u001b[0m             \u001b[39m# record the step after step update\u001b[39;00m\n\u001b[1;32m    <a href='file:///home/kevork/miniconda3/envs/pytorch/lib/python3.9/site-packages/torch/optim/adam.py?line=138'>139</a>\u001b[0m             state_steps\u001b[39m.\u001b[39mappend(state[\u001b[39m'\u001b[39m\u001b[39mstep\u001b[39m\u001b[39m'\u001b[39m])\n\u001b[0;32m--> <a href='file:///home/kevork/miniconda3/envs/pytorch/lib/python3.9/site-packages/torch/optim/adam.py?line=140'>141</a>\u001b[0m     F\u001b[39m.\u001b[39;49madam(params_with_grad,\n\u001b[1;32m    <a href='file:///home/kevork/miniconda3/envs/pytorch/lib/python3.9/site-packages/torch/optim/adam.py?line=141'>142</a>\u001b[0m            grads,\n\u001b[1;32m    <a href='file:///home/kevork/miniconda3/envs/pytorch/lib/python3.9/site-packages/torch/optim/adam.py?line=142'>143</a>\u001b[0m            exp_avgs,\n\u001b[1;32m    <a href='file:///home/kevork/miniconda3/envs/pytorch/lib/python3.9/site-packages/torch/optim/adam.py?line=143'>144</a>\u001b[0m            exp_avg_sqs,\n\u001b[1;32m    <a href='file:///home/kevork/miniconda3/envs/pytorch/lib/python3.9/site-packages/torch/optim/adam.py?line=144'>145</a>\u001b[0m            max_exp_avg_sqs,\n\u001b[1;32m    <a href='file:///home/kevork/miniconda3/envs/pytorch/lib/python3.9/site-packages/torch/optim/adam.py?line=145'>146</a>\u001b[0m            state_steps,\n\u001b[1;32m    <a href='file:///home/kevork/miniconda3/envs/pytorch/lib/python3.9/site-packages/torch/optim/adam.py?line=146'>147</a>\u001b[0m            amsgrad\u001b[39m=\u001b[39;49mgroup[\u001b[39m'\u001b[39;49m\u001b[39mamsgrad\u001b[39;49m\u001b[39m'\u001b[39;49m],\n\u001b[1;32m    <a href='file:///home/kevork/miniconda3/envs/pytorch/lib/python3.9/site-packages/torch/optim/adam.py?line=147'>148</a>\u001b[0m            beta1\u001b[39m=\u001b[39;49mbeta1,\n\u001b[1;32m    <a href='file:///home/kevork/miniconda3/envs/pytorch/lib/python3.9/site-packages/torch/optim/adam.py?line=148'>149</a>\u001b[0m            beta2\u001b[39m=\u001b[39;49mbeta2,\n\u001b[1;32m    <a href='file:///home/kevork/miniconda3/envs/pytorch/lib/python3.9/site-packages/torch/optim/adam.py?line=149'>150</a>\u001b[0m            lr\u001b[39m=\u001b[39;49mgroup[\u001b[39m'\u001b[39;49m\u001b[39mlr\u001b[39;49m\u001b[39m'\u001b[39;49m],\n\u001b[1;32m    <a href='file:///home/kevork/miniconda3/envs/pytorch/lib/python3.9/site-packages/torch/optim/adam.py?line=150'>151</a>\u001b[0m            weight_decay\u001b[39m=\u001b[39;49mgroup[\u001b[39m'\u001b[39;49m\u001b[39mweight_decay\u001b[39;49m\u001b[39m'\u001b[39;49m],\n\u001b[1;32m    <a href='file:///home/kevork/miniconda3/envs/pytorch/lib/python3.9/site-packages/torch/optim/adam.py?line=151'>152</a>\u001b[0m            eps\u001b[39m=\u001b[39;49mgroup[\u001b[39m'\u001b[39;49m\u001b[39meps\u001b[39;49m\u001b[39m'\u001b[39;49m],\n\u001b[1;32m    <a href='file:///home/kevork/miniconda3/envs/pytorch/lib/python3.9/site-packages/torch/optim/adam.py?line=152'>153</a>\u001b[0m            maximize\u001b[39m=\u001b[39;49mgroup[\u001b[39m'\u001b[39;49m\u001b[39mmaximize\u001b[39;49m\u001b[39m'\u001b[39;49m])\n\u001b[1;32m    <a href='file:///home/kevork/miniconda3/envs/pytorch/lib/python3.9/site-packages/torch/optim/adam.py?line=153'>154</a>\u001b[0m \u001b[39mreturn\u001b[39;00m loss\n",
      "File \u001b[0;32m~/miniconda3/envs/pytorch/lib/python3.9/site-packages/torch/optim/_functional.py:105\u001b[0m, in \u001b[0;36madam\u001b[0;34m(params, grads, exp_avgs, exp_avg_sqs, max_exp_avg_sqs, state_steps, amsgrad, beta1, beta2, lr, weight_decay, eps, maximize)\u001b[0m\n\u001b[1;32m    <a href='file:///home/kevork/miniconda3/envs/pytorch/lib/python3.9/site-packages/torch/optim/_functional.py?line=102'>103</a>\u001b[0m     denom \u001b[39m=\u001b[39m (max_exp_avg_sqs[i]\u001b[39m.\u001b[39msqrt() \u001b[39m/\u001b[39m math\u001b[39m.\u001b[39msqrt(bias_correction2))\u001b[39m.\u001b[39madd_(eps)\n\u001b[1;32m    <a href='file:///home/kevork/miniconda3/envs/pytorch/lib/python3.9/site-packages/torch/optim/_functional.py?line=103'>104</a>\u001b[0m \u001b[39melse\u001b[39;00m:\n\u001b[0;32m--> <a href='file:///home/kevork/miniconda3/envs/pytorch/lib/python3.9/site-packages/torch/optim/_functional.py?line=104'>105</a>\u001b[0m     denom \u001b[39m=\u001b[39m (exp_avg_sq\u001b[39m.\u001b[39;49msqrt() \u001b[39m/\u001b[39;49m math\u001b[39m.\u001b[39;49msqrt(bias_correction2))\u001b[39m.\u001b[39;49madd_(eps)\n\u001b[1;32m    <a href='file:///home/kevork/miniconda3/envs/pytorch/lib/python3.9/site-packages/torch/optim/_functional.py?line=108'>109</a>\u001b[0m step_size \u001b[39m=\u001b[39m lr \u001b[39m/\u001b[39m bias_correction1\n\u001b[1;32m    <a href='file:///home/kevork/miniconda3/envs/pytorch/lib/python3.9/site-packages/torch/optim/_functional.py?line=109'>110</a>\u001b[0m param\u001b[39m.\u001b[39maddcdiv_(exp_avg, denom, value\u001b[39m=\u001b[39m\u001b[39m-\u001b[39mstep_size)\n",
      "\u001b[0;31mKeyboardInterrupt\u001b[0m: "
     ]
    }
   ],
   "source": [
    "'''Training'''\n",
    "# Tensorboard\n",
    "#writer.add_graph(model.cpu(), val_dataset[0][0])\n",
    "#writer.close()\n",
    "\n",
    "# Doing the training now\n",
    "\n",
    "n_total_steps = len(train_loader)\n",
    "\n",
    "steps_until_print = batch_size\n",
    "\n",
    "# stop_training = False\n",
    "# def signal_handler(sig, frame):\n",
    "#     print('\\nDetected Ctrl+C, stopping training')\n",
    "#     stop_training = True\n",
    "#     print('Saving model')\n",
    "# signal.signal(signal.SIGINT, signal_handler)\n",
    "\n",
    "model.train()\n",
    "print('Starting training')\n",
    "for epoch in range(num_epochs):\n",
    "    #if stop_training: break\n",
    "\n",
    "    # Check for stop - read file for boolean to stopping safely\n",
    "    with open(\"train.json\") as train_json:\n",
    "        train_dict = json.load(train_json)\n",
    "        if train_dict[\"train\"] == \"False\": break\n",
    "\n",
    "    testing_batches = iter(test_loader) # Every epoch tests the whole dataset once\n",
    "\n",
    "    for i, (images, targets) in enumerate(train_loader):\n",
    "            # Check for stop - read file for boolean to stopping safely\n",
    "        with open(\"train.json\") as train_json:\n",
    "            train_dict = json.load(train_json)\n",
    "            if train_dict[\"train\"] == \"False\": break\n",
    "\n",
    "        images = images.to(device, torch.float32)\n",
    "        targets = targets.to(device)\n",
    "        # print('images  shape:', images.shape)\n",
    "        # print('targets shape:', targets.shape)\n",
    "\n",
    "        # Forward pass\n",
    "        outputs = model(images)['out']\n",
    "        # print(\"outputs shape:\", outputs.shape)\n",
    "      \n",
    "        loss = criterion(outputs, targets.long())\n",
    "\n",
    "        # Backward pass\n",
    "        optimiser.zero_grad()   # Clear old gradient values\n",
    "        loss.backward()         # Calculate the gradients\n",
    "        optimiser.step()        # Update the model's weights - seen at model.parameters()\n",
    "\n",
    "        with torch.no_grad():\n",
    "\n",
    "            # Logging the train accuracy\n",
    "            pred = torch.argmax(outputs, dim=1)     # Evaluate along the 1st dimension\n",
    "            batch_pixel_accuracy = (pred == targets).sum().item()/(batch_size*pred.shape[1]*pred.shape[2])\n",
    "            writer.add_scalar('Accuracy/training', batch_pixel_accuracy, epoch * n_total_steps + i) # label of the scalar, actual loss mean, current global step \n",
    "\n",
    "            # Logging the train loss\n",
    "            writer.add_scalar('Loss/training', loss.item()/steps_until_print, epoch * n_total_steps + i) # label of the scalar, actual loss mean, current global step\n",
    "\n",
    "            # For every 5 batches, test one batch. (test:train data ratio is split 1:5)\n",
    "            if (i+1) % 5 == 0:  # Logging the testing loss\n",
    "                test_images, test_targets = testing_batches.next()\n",
    "                \n",
    "                test_images = test_images.to(device)\n",
    "                test_targets = test_targets.to(device)#.squeeze(1)\n",
    "\n",
    "                model.eval()\n",
    "                test_outputs = model(test_images.float())['out']\n",
    "                model.train()\n",
    "                    \n",
    "                test_pred = torch.argmax(test_outputs, dim=1)\n",
    "\n",
    "                '''Plot test results'''\n",
    "                fig, ax = plt.subplots(ncols=3, figsize=(24, 16))\n",
    "                ax[0].imshow(test_images[0].to('cpu', torch.uint8).permute(1,2,0)) # transpose(1,2,0) changes the order of the dimensions\n",
    "                ax[1].imshow(test_targets[0].to('cpu'))\n",
    "                ax[2].imshow(test_pred[0].to('cpu').detach())\n",
    "                plt.pause(0.01)\n",
    "                '''                     '''\n",
    "\n",
    "                # print('test_images  shape:', test_images.shape)\n",
    "                # print('test_targets shape:', test_targets.shape)\n",
    "                # print('test_outputs shape:', test_outputs.shape)\n",
    "                # print('test_pred    shape:', test_pred.shape)\n",
    "\n",
    "                # writer.add_images('test/images',      test_images                  , epoch * n_total_steps + i)\n",
    "                # writer.add_images('test/targets',     test_targets.unsqueeze(dim=1), epoch * n_total_steps + i)\n",
    "                # writer.add_images('test/predictions', test_pred.unsqueeze(dim=1)   , epoch * n_total_steps + i)\n",
    "\n",
    "                # Logging the test accuracy\n",
    "                test_batch_pixel_accuracy = (test_pred == test_targets).sum().item()/(batch_size*test_pred.shape[1]*test_pred.shape[2])\n",
    "                #print('Test batch pixel accuracy', test_batch_pixel_accuracy)\n",
    "                writer.add_scalar('Accuracy/testing', test_batch_pixel_accuracy, epoch * n_total_steps + i) # label of the scalar, actual loss mean, current global step \n",
    "\n",
    "                # Logging the test loss\n",
    "                test_loss = criterion(test_outputs, test_targets.long())\n",
    "                writer.add_scalar('Loss/testing', test_loss.item()/len(test_targets), epoch * n_total_steps + i) # label of the scalar, actual loss mean, current global step\n",
    "\n",
    "                #writer.add_scalars(\"Accuracy\", {\"train\": batch_pixel_accuracy, \"test\": test_batch_pixel_accuracy}, epoch * n_total_steps + i)\n",
    "\n",
    "                print(f'Epoch {epoch+1}/{num_epochs}, step {i+1}/{n_total_steps}, loss = {loss.item():.5f}')\n",
    "                \n",
    "\n",
    "    #print(f'Epoch {epoch+1}/{num_epochs}, step {i+1}/{n_total_steps}, loss = {loss.item():.5f}')\n",
    "\n",
    "print(\"Training is done\")\n"
   ]
  },
  {
   "cell_type": "code",
   "execution_count": null,
   "metadata": {},
   "outputs": [],
   "source": [
    "'''Saving the model''';\n",
    "# checkpoint = {\n",
    "#     \"epoch\": epoch,\n",
    "#     \"model_state\": model.state_dict(),\n",
    "#     \"optimiser_state\": optimiser.state_dict()\n",
    "# }\n",
    "# torch.save(checkpoint, \"checkpoint_resnet50_0.5epoch_v2_cityscapes.pth\")"
   ]
  },
  {
   "cell_type": "code",
   "execution_count": null,
   "metadata": {},
   "outputs": [],
   "source": [
    "'''Plotting''';\n",
    "# with torch.no_grad():\n",
    "#     iterator = iter(test_loader)\n",
    "#     images, targets = next(iterator)\n",
    "#     images = images.to(device)\n",
    "\n",
    "#     model.eval().to(device)\n",
    "#     output = model(images.to(device))['out']\n",
    "#     pred = torch.argmax(output, dim=1)\n",
    "\n",
    "#     images = images.to('cpu')\n",
    "#     targets = targets.to('cpu')\n",
    "#     output = output.to('cpu')\n",
    "#     pred = pred.to('cpu')\n",
    "#     print('image: ', images.shape)\n",
    "#     print('target:', targets.shape)\n",
    "#     print('output:', output.shape)\n",
    "#     print('pred:  ', pred.shape)\n",
    "#     fig, ax = plt.subplots(ncols=3, figsize=(24, 16))\n",
    "#     ax[0].imshow(images[1].squeeze().permute(1,2,0))  # .squeeze() does the same thing as .numpy().transpose(1,2,0) \n",
    "#     ax[1].imshow(targets[1].squeeze()) # .squeeze() does the same thing as .numpy().transpose(1,2,0) \n",
    "#     ax[2].imshow(pred[1].squeeze())\n",
    "\n",
    "print('Hi')"
   ]
  },
  {
   "cell_type": "code",
   "execution_count": null,
   "metadata": {},
   "outputs": [
    {
     "data": {
      "text/plain": [
       "array([[5.2695312, 5.2695312, 5.2695312, ..., 7.4101562, 7.3984375,\n",
       "        7.390625 ],\n",
       "       [5.2929688, 5.2929688, 5.2929688, ..., 7.4257812, 7.4179688,\n",
       "        7.4140625],\n",
       "       [5.9453125, 5.9453125, 5.3320312, ..., 7.4492188, 7.4453125,\n",
       "        7.4453125],\n",
       "       ...,\n",
       "       [1.1044922, 1.1044922, 1.1044922, ..., 1.0625   , 1.0625   ,\n",
       "        1.0625   ],\n",
       "       [1.0996094, 1.0996094, 1.0996094, ..., 1.0585938, 1.0585938,\n",
       "        1.0585938],\n",
       "       [1.0947266, 1.0947266, 1.0947266, ..., 1.0537109, 1.0537109,\n",
       "        1.0537109]], dtype=float32)"
      ]
     },
     "execution_count": 6,
     "metadata": {},
     "output_type": "execute_result"
    }
   ],
   "source": [
    "#file_list_depth = sorted(glob.glob('AirSimDataset4/img_rgbd_camera_1_*.png'))\n",
    "#dataset_images  = np.array([np.array(Image.open(filename)) for filename in file_list_images])\n"
   ]
  },
  {
   "cell_type": "code",
   "execution_count": null,
   "metadata": {},
   "outputs": [
    {
     "data": {
      "text/plain": [
       "<matplotlib.image.AxesImage at 0x7fb60faf6640>"
      ]
     },
     "execution_count": 7,
     "metadata": {},
     "output_type": "execute_result"
    },
    {
     "data": {
      "image/png": "[encoded data removed]",
      "text/plain": [
       "<Figure size 432x288 with 1 Axes>"
      ]
     },
     "metadata": {
      "needs_background": "light"
     },
     "output_type": "display_data"
    }
   ],
   "source": [
    "images_and_depths = zip(file_list_images, file_list_depths)\n"
   ]
  },
  {
   "cell_type": "code",
   "execution_count": null,
   "metadata": {},
   "outputs": [
    {
     "ename": "NameError",
     "evalue": "name 'images' is not defined",
     "output_type": "error",
     "traceback": [
      "\u001b[0;31m---------------------------------------------------------------------------\u001b[0m",
      "\u001b[0;31mNameError\u001b[0m                                 Traceback (most recent call last)",
      "\u001b[1;32m/home/kevork/MDI-Computer-Vision/project_sheet03.ipynb Cell 13'\u001b[0m in \u001b[0;36m<cell line: 1>\u001b[0;34m()\u001b[0m\n\u001b[0;32m----> <a href='vscode-notebook-cell:/home/kevork/MDI-Computer-Vision/project_sheet03.ipynb#ch0000012?line=0'>1</a>\u001b[0m images\u001b[39m.\u001b[39mshape\n",
      "\u001b[0;31mNameError\u001b[0m: name 'images' is not defined"
     ]
    }
   ],
   "source": [
    "images.shape"
   ]
  },
  {
   "cell_type": "code",
   "execution_count": null,
   "metadata": {},
   "outputs": [
    {
     "data": {
      "text/plain": [
       "(array([[480.,   0.,   0., ...,   0.,   0.,   0.],\n",
       "        [480.,   0.,   0., ...,   0.,   0.,   0.],\n",
       "        [480.,   0.,   0., ...,   0.,   0.,   0.],\n",
       "        ...,\n",
       "        [480.,   0.,   0., ...,   0.,   0.,   0.],\n",
       "        [480.,   0.,   0., ...,   0.,   0.,   0.],\n",
       "        [480.,   0.,   0., ...,   0.,   0.,   0.]]),\n",
       " array([1.20996094e+00, 1.71468896e+03, 3.42816797e+03, 5.14164697e+03,\n",
       "        6.85512598e+03, 8.56860547e+03, 1.02820840e+04, 1.19955625e+04,\n",
       "        1.37090420e+04, 1.54225215e+04, 1.71360000e+04], dtype=float32),\n",
       " <a list of 640 BarContainer objects>)"
      ]
     },
     "execution_count": 16,
     "metadata": {},
     "output_type": "execute_result"
    },
    {
     "data": {
      "image/png": "[encoded data removed]",
      "text/plain": [
       "<Figure size 432x288 with 1 Axes>"
      ]
     },
     "metadata": {
      "needs_background": "light"
     },
     "output_type": "display_data"
    }
   ],
   "source": [
    "plt.hist(dataset_depths[70])"
   ]
  },
  {
   "cell_type": "code",
   "execution_count": null,
   "metadata": {},
   "outputs": [],
   "source": []
  }
 ],
 "metadata": {
  "interpreter": {
   "hash": "071f83251836d5bb3918d2af6501aef1a588d685a567aa45f470f25864dd9495"
  },
  "kernelspec": {
   "display_name": "Python 3.8.12 ('pytorch')",
   "language": "python",
   "name": "python3"
  },
  "language_info": {
   "codemirror_mode": {
    "name": "ipython",
    "version": 3
   },
   "file_extension": ".py",
   "mimetype": "text/x-python",
   "name": "python",
   "nbconvert_exporter": "python",
   "pygments_lexer": "ipython3",
   "version": "3.9.7"
  },
  "orig_nbformat": 4
 },
 "nbformat": 4,
 "nbformat_minor": 2
}
